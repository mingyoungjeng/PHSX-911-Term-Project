{
 "cells": [
  {
   "cell_type": "markdown",
   "metadata": {},
   "source": [
    "# Physics 911 Term Project\n",
    "### Joshua Jeng\n",
    "\n",
    "Adapting aspects of Efficiently Updatable Neural Networks (NNUE) into quantum machine learning circuits."
   ]
  },
  {
   "cell_type": "markdown",
   "metadata": {},
   "source": [
    "### Efficiently Updatable Neural Networks (NNUE)\n",
    "\n",
    "NNUEs are a type of neural networkthat has shown great advantage in engines designed to play shogi and chess. [Structure] [Benefits of structure] [Connection to quantum]\n",
    "\n",
    "Sources: [Original Paper (JPN)](https://github.com/ynasu87/nnue/blob/master/docs/nnue.pdf), [Original Paper (Unofficial English translation)](https://github.com/asdfjkl/nnue/blob/main/nnue_en.pdf), [GitHub](https://github.com/glinscott/nnue-pytorch/blob/master/docs/nnue.md), [saumikn](https://saumikn.com/blog/a-brief-guide-to-stockfish-nnue/), [Chess.com](https://www.chess.com/blog/the_real_greco/evolution-of-a-chess-fish-what-is-nnue-anyway)"
   ]
  },
  {
   "cell_type": "markdown",
   "metadata": {},
   "source": [
    "### Quantum Variational Algorithms\n",
    "\n",
    "Source: [Qiskit](https://learn.qiskit.org/course/machine-learning/variational-classification)"
   ]
  },
  {
   "cell_type": "markdown",
   "metadata": {},
   "source": [
    "### Project Objective\n",
    "\n",
    "Determine a parameterized quantum ansatz that reflects the principal benefits of NNUEs.\n",
    "* 1\n",
    "* 2\n",
    "* 3"
   ]
  }
 ],
 "metadata": {
  "language_info": {
   "name": "python"
  },
  "orig_nbformat": 4
 },
 "nbformat": 4,
 "nbformat_minor": 2
}
